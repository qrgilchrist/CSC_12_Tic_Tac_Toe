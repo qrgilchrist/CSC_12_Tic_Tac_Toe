{
  "nbformat": 4,
  "nbformat_minor": 0,
  "metadata": {
    "colab": {
      "name": "Board.ipynb",
      "provenance": [],
      "collapsed_sections": [],
      "authorship_tag": "ABX9TyM02pVOLJTCyKncjeB83gcB",
      "include_colab_link": true
    },
    "kernelspec": {
      "name": "python3",
      "display_name": "Python 3"
    },
    "language_info": {
      "name": "python"
    }
  },
  "cells": [
    {
      "cell_type": "markdown",
      "metadata": {
        "id": "view-in-github",
        "colab_type": "text"
      },
      "source": [
        "<a href=\"https://colab.research.google.com/github/qrgilchrist/CSC_12_Tic_Tac_Toe/blob/main/Board.ipynb\" target=\"_parent\"><img src=\"https://colab.research.google.com/assets/colab-badge.svg\" alt=\"Open In Colab\"/></a>"
      ]
    },
    {
      "cell_type": "code",
      "execution_count": 21,
      "metadata": {
        "colab": {
          "base_uri": "https://localhost:8080/"
        },
        "id": "HkbdoHGlNSNO",
        "outputId": "69aa5a54-a37a-4000-e86b-b160e94491f5"
      },
      "outputs": [
        {
          "output_type": "stream",
          "name": "stdout",
          "text": [
            "['-', '-', '-']\n",
            "['-', '-', '-']\n",
            "['-', '-', '-']\n"
          ]
        }
      ],
      "source": [
        "board = [[\"-\" for a in range (3)] for b in range (3)]\n",
        "for row in board:\n",
        "  print(row)\n"
      ]
    },
    {
      "cell_type": "markdown",
      "source": [
        ""
      ],
      "metadata": {
        "id": "Py7xntD-j6Rf"
      }
    }
  ]
}